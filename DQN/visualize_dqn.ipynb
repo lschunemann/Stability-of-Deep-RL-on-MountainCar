{
 "cells": [
  {
   "cell_type": "code",
   "execution_count": 1,
   "id": "e26a6dce",
   "metadata": {},
   "outputs": [],
   "source": [
    "import torch\n",
    "import numpy as np\n",
    "from models import DQN_square, DQN_dueling, NoisyNet_Dueling, NoisyNet, Categorical_DQN\n",
    "import gymnasium as gym\n",
    "import random\n",
    "import matplotlib.pyplot as plt\n",
    "import os\n",
    "os.environ[\"KMP_DUPLICATE_LIB_OK\"]=\"TRUE\""
   ]
  },
  {
   "cell_type": "markdown",
   "id": "4ecd1146",
   "metadata": {},
   "source": [
    "## Compare Models"
   ]
  },
  {
   "cell_type": "code",
   "execution_count": 2,
   "id": "9ba9f113",
   "metadata": {},
   "outputs": [
    {
     "data": {
      "text/plain": [
       "<All keys matched successfully>"
      ]
     },
     "execution_count": 2,
     "metadata": {},
     "output_type": "execute_result"
    }
   ],
   "source": [
    "# DQN = DQN_square(3)\n",
    "# DQN.load_state_dict(torch.load('data/DQN.pth'))\n",
    "DQN_fixed = DQN_square(3)\n",
    "DQN_fixed.load_state_dict(torch.load('data/DQN_paper_fixed_final.pth'))\n",
    "DDQN = DQN_square(3)\n",
    "DDQN.load_state_dict(torch.load('data/DDQN.pth'))\n",
    "Dueling_DDQN = DQN_dueling(3)\n",
    "Dueling_DDQN.load_state_dict(torch.load('data/Dueling_DDQN.pth'))\n",
    "Noisy_Dueling_DDQN = NoisyNet_Dueling(3)\n",
    "Noisy_Dueling_DDQN.load_state_dict(torch.load('data/Noisy_Dueling_DDQN.pth'))\n",
    "Noisy_DDQN = NoisyNet(3)\n",
    "Noisy_DDQN.load_state_dict(torch.load('data/Noisy_DDQN.pth'))"
   ]
  },
  {
   "cell_type": "code",
   "execution_count": 3,
   "id": "9424c9eb",
   "metadata": {},
   "outputs": [],
   "source": [
    "# q_values_DQN = np.loadtxt('data/q_values_DQN.txt')\n",
    "# steps_DQN = np.loadtxt('data/steps_DQN.txt')\n",
    "q_values_DQN_fixed = np.loadtxt('data/q_values_fixed.txt')\n",
    "steps_DQN_fixed = np.loadtxt('data/steps_fixed.txt')\n",
    "\n",
    "q_values_DDQN = np.loadtxt('data/q_values_DDQN.txt')\n",
    "steps_DDQN = np.loadtxt('data/steps_DDQN.txt')\n",
    "\n",
    "q_values_Dueling_DDQN = np.loadtxt('data/q_values_Dueling_DDQN.txt')\n",
    "steps_Dueling_DDQN = np.loadtxt('data/steps_Dueling_DDQN.txt')\n",
    "\n",
    "q_values_Noisy_Dueling_DDQN = np.loadtxt('data/q_values_Dueling_DDQN.txt')\n",
    "steps_Noisy_Dueling_DDQN = np.loadtxt('data/steps_Dueling_DDQN.txt')\n",
    "\n",
    "q_values_Noisy_DDQN = np.loadtxt('data/q_values_Dueling_DDQN.txt')\n",
    "steps_Noisy_DDQN = np.loadtxt('data/steps_Dueling_DDQN.txt')\n",
    "\n",
    "q_values_Prioritized_DDQN = np.loadtxt('data/q_values_DDQN_Prioritized.txt')\n",
    "steps_Prioritized_DDQN = np.loadtxt('data/steps_DDQN_Prioritized.txt')\n",
    "\n",
    "q_values_Prioritized_Dueling_DDQN = np.loadtxt('data/q_values_Prioritized_Dueling_DDQN.txt')\n",
    "steps_Prioritized_Dueling_DDQN = np.loadtxt('data/steps_Prioritized_Dueling_DDQN.txt')\n",
    "\n",
    "q_values_Prioritized_Noisy_Dueling_DDQN = np.loadtxt('data/q_values_Prioritized_Noisy_Dueling_DDQN.txt')\n",
    "steps_Prioritized_Noisy_Dueling_DDQN = np.loadtxt('data/steps_Prioritized_Noisy_Dueling_DDQN.txt')"
   ]
  },
  {
   "cell_type": "code",
   "execution_count": 3,
   "id": "c9cb4697",
   "metadata": {},
   "outputs": [],
   "source": [
    "def running_mean(x, N):\n",
    "    cumsum = np.cumsum(np.insert(x, 0, 0)) \n",
    "    return (cumsum[N:] - cumsum[:-N]) / float(N)"
   ]
  },
  {
   "cell_type": "code",
   "execution_count": 7,
   "id": "2ed89617",
   "metadata": {},
   "outputs": [],
   "source": [
    "# Plot steps per episode\n",
    "# plt.plot(np.arange(len(steps_DQN)) + 1, steps_DQN)\n",
    "N = 10\n",
    "steps_DQN_fixed = running_mean(steps_DQN_fixed, N)\n",
    "steps_DDQN = running_mean(steps_DDQN, N)\n",
    "steps_Dueling_DDQN = running_mean(steps_Dueling_DDQN, N)\n",
    "steps_NoisyDueling_DDQN = running_mean(steps_Noisy_Dueling_DDQN, N)\n",
    "steps_Noisy_DDQN = running_mean(steps_Noisy_DDQN, N)\n",
    "steps_Prioritized_DDQN = running_mean(steps_Prioritized_DDQN, N)\n",
    "steps_Prioritized_Dueling_DDQN = running_mean(steps_Prioritized_Dueling_DDQN, N)\n",
    "steps_Prioritized_Noisy_Dueling_DDQN = running_mean(steps_Prioritized_Noisy_Dueling_DDQN, N)\n",
    "\n",
    "plt.plot(np.arange(len(steps_DQN_fixed)) + 1, steps_DQN_fixed, label='DQN fixed')\n",
    "plt.plot(np.arange(len(steps_Dueling_DDQN)) + 1, steps_Dueling_DDQN, label='Dueling DDQN')\n",
    "plt.plot(np.arange(len(steps_DDQN)) + 1, steps_DDQN, label='DDQN')\n",
    "# plt.plot(np.arange(len(steps_Noisy_Dueling_DDQN)) + 1, steps_Noisy_Dueling_DDQN, label='Noisy_Dueling_DDQN')\n",
    "plt.plot(np.arange(len(steps_Noisy_DDQN)) + 1, steps_Noisy_DDQN, label='Noisy_DDQN')\n",
    "plt.plot(np.arange(len(steps_Prioritized_DDQN)) + 1, steps_Prioritized_DDQN, label='Prioritized_DDQN')\n",
    "plt.plot(np.arange(len(steps_Prioritized_Dueling_DDQN)) + 1, steps_Prioritized_Dueling_DDQN, label='Prioritized_Dueling_DDQN')\n",
    "plt.plot(np.arange(len(steps_Prioritized_Noisy_Dueling_DDQN)) + 1, steps_Prioritized_Noisy_Dueling_DDQN, label='Prioritized_Noisy_Dueling_DDQN')\n",
    "plt.xlabel('Episode')\n",
    "plt.ylabel('Steps')\n",
    "plt.ylim(0,5000)\n",
    "plt.legend()\n",
    "plt.title('Steps per Episode for different Algorithms')\n",
    "plt.savefig('plots/steps_DQN_compare.png')\n",
    "plt.close()\n",
    "\n",
    "# Plot q measures per episode\n",
    "# plt.plot(np.arange(len(q_values_DQN)) + 1, q_values_DQN)\n",
    "plt.plot(np.arange(len(q_values_DQN_fixed)) + 1, q_values_DQN_fixed, label='DQN fixed')\n",
    "plt.plot(np.arange(len(q_values_DDQN)) + 1, q_values_DDQN, label='DDQN')\n",
    "plt.plot(np.arange(len(q_values_Noisy_Dueling_DDQN)) + 1, q_values_Noisy_Dueling_DDQN, label='Noisy_Dueling_DDQN')\n",
    "plt.plot(np.arange(len(q_values_Noisy_DDQN)) + 1, q_values_Noisy_DDQN, label='Noisy_DDQN')\n",
    "# plt.plot(np.arange(len(q_values_Dueling_DDQN)) + 1, q_values_Dueling_DDQN, label='Dueling DDQN')\n",
    "plt.plot(np.arange(len(q_values_Prioritized_Dueling_DDQN)) + 1, q_values_Prioritized_Dueling_DDQN, label='Prioritized_Dueling_DDQN')\n",
    "plt.plot(np.arange(len(q_values_Prioritized_Noisy_Dueling_DDQN)) + 1, q_values_Prioritized_Noisy_Dueling_DDQN, label='Prioritized_Noisy_Dueling_DDQN')\n",
    "plt.xlabel('Episode')\n",
    "plt.ylabel('Average Q')\n",
    "plt.ylim(-100, 0)\n",
    "plt.legend()\n",
    "plt.title('Average Q measure over sampled states')\n",
    "plt.savefig('plots/q_measures_DQN_compare.png')\n",
    "plt.close()\n"
   ]
  },
  {
   "cell_type": "markdown",
   "id": "ce0ef9ad",
   "metadata": {},
   "source": [
    "## Visualize missing steps and q values from data"
   ]
  },
  {
   "cell_type": "markdown",
   "id": "d6835d13",
   "metadata": {},
   "source": [
    "### Prioritized DDQN"
   ]
  },
  {
   "cell_type": "code",
   "execution_count": 23,
   "id": "06a4fdd0",
   "metadata": {},
   "outputs": [],
   "source": [
    "eval_prioritized = np.loadtxt(\"data/eval_Prioritized_DDQN.txt\")\n",
    "q_values = np.loadtxt(\"data/q_values_DDQN_prioritized.txt\")\n",
    "steps = np.loadtxt(\"data/steps_DDQN_prioritized.txt\")"
   ]
  },
  {
   "cell_type": "code",
   "execution_count": 25,
   "id": "58114484",
   "metadata": {},
   "outputs": [],
   "source": [
    "plt.scatter([50, 100, 150, 200, 250, 300, 350, 400, 450, 500], [-e for e in eval_prioritized], color='r', marker='x', zorder=1, label='evaluations')\n",
    "m, b = np.polyfit([50, 100, 150, 200, 250, 300, 350, 400, 450, 500], [-e for e in eval_prioritized], 1)\n",
    "x = np.arange(0, 500)\n",
    "plt.plot(x, m*x+b, '--k', label='eval_regression')\n",
    "plt.plot(np.arange(len(steps)) + 1, steps, zorder=-1, label='steps')\n",
    "N = 10\n",
    "steps_mean = running_mean(steps, N)\n",
    "plt.plot(np.arange(len(steps_mean)) + 1, steps_mean, zorder=0, label='running average')\n",
    "plt.legend()\n",
    "plt.xlabel('Episode')\n",
    "plt.ylabel('Steps')\n",
    "plt.title('Steps per Episode - Prioritized_DDQN')\n",
    "plt.savefig('plots/steps_Prioritized_DDQN.png')\n",
    "plt.close()\n",
    "\n",
    "plt.plot(np.arange(len(q_values)) + 1, q_values)\n",
    "plt.xlabel('Episode')\n",
    "plt.ylabel('Average Q')\n",
    "plt.title('Average Q measure over sampled states')\n",
    "plt.savefig('plots/q_measures_Prioritized_DDQN.png')\n",
    "plt.close()"
   ]
  },
  {
   "cell_type": "markdown",
   "id": "372025c6",
   "metadata": {},
   "source": [
    "### Prioritized Noisy Dueling"
   ]
  },
  {
   "cell_type": "code",
   "execution_count": 4,
   "id": "8593c754",
   "metadata": {},
   "outputs": [],
   "source": [
    "eval_prioritized = np.loadtxt(\"data/eval_Prioritized_Noisy_Dueling_DDQN.txt\")\n",
    "q_values = np.loadtxt(\"data/q_values_Prioritized_Noisy_Dueling_DDQN.txt\")\n",
    "steps = np.loadtxt(\"data/steps_Prioritized_Noisy_Dueling_DDQN.txt\")\n",
    "\n",
    "plt.scatter([50, 100, 150, 200, 250, 300, 350, 400, 450, 500], [-e*4 for e in eval_prioritized], color='r', marker='x', zorder=1, label='evaluations')\n",
    "m, b = np.polyfit([50, 100, 150, 200, 250, 300, 350, 400, 450, 500], [-e*4 for e in eval_prioritized], 1)\n",
    "x = np.arange(0, 500)\n",
    "plt.plot(x, m*x+b, '--k', label='eval_regression')\n",
    "plt.plot(np.arange(len(steps)) + 1, steps, zorder=-1, label='steps')\n",
    "N = 10\n",
    "steps_mean = running_mean(steps, N)\n",
    "plt.plot(np.arange(len(steps_mean)) + 1, steps_mean, zorder=0, label='running average')\n",
    "plt.legend()\n",
    "plt.xlabel('Episode')\n",
    "plt.ylabel('Steps')\n",
    "plt.title('Steps per Episode - Prioritized Noisy Dueling DDQN')\n",
    "plt.savefig('plots/steps_Prioritized_Noisy_Dueling_DDQN.png')\n",
    "plt.close()\n",
    "\n",
    "plt.plot(np.arange(len(q_values)) + 1, q_values)\n",
    "plt.xlabel('Episode')\n",
    "plt.ylabel('Average Q')\n",
    "plt.title('Average Q measure over sampled states')\n",
    "plt.savefig('plots/q_measures_Prioritized_Noisy_Dueling_DDQN.png')\n",
    "plt.close()"
   ]
  },
  {
   "cell_type": "markdown",
   "id": "d2f3c408",
   "metadata": {},
   "source": [
    "### Noisy DDQN"
   ]
  },
  {
   "cell_type": "code",
   "execution_count": 5,
   "id": "db96199f",
   "metadata": {},
   "outputs": [],
   "source": [
    "eval_prioritized = np.loadtxt(\"data/eval_Noisy_DDQN.txt\")\n",
    "q_values = np.loadtxt(\"data/q_values_Noisy_DDQN.txt\")\n",
    "steps = np.loadtxt(\"data/steps_Noisy_DDQN.txt\")\n",
    "\n",
    "plt.scatter([50, 100, 150, 200, 250, 300, 350, 400, 450, 500], [-e for e in eval_prioritized], color='r', marker='x', zorder=1, label='evaluations')\n",
    "m, b = np.polyfit([50, 100, 150, 200, 250, 300, 350, 400, 450, 500], [-e for e in eval_prioritized], 1)\n",
    "x = np.arange(0, 500)\n",
    "plt.plot(x, m*x+b, '--k', label='eval_regression')\n",
    "plt.plot(np.arange(len(steps)) + 1, steps, zorder=-1, label='steps')\n",
    "N = 10\n",
    "steps_mean = running_mean(steps, N)\n",
    "plt.plot(np.arange(len(steps_mean)) + 1, steps_mean, zorder=0, label='running average')\n",
    "plt.legend()\n",
    "plt.xlabel('Episode')\n",
    "plt.ylabel('Steps')\n",
    "plt.title('Steps per Episode - Noisy DDQN')\n",
    "plt.savefig('plots/steps_Noisy_DDQN.png')\n",
    "plt.close()\n",
    "\n",
    "plt.plot(np.arange(len(q_values)) + 1, q_values)\n",
    "plt.xlabel('Episode')\n",
    "plt.ylabel('Average Q')\n",
    "plt.title('Average Q measure over sampled states')\n",
    "plt.savefig('plots/q_measures_Noisy_DDQN.png')\n",
    "plt.close()"
   ]
  },
  {
   "cell_type": "markdown",
   "id": "dba7d0e1",
   "metadata": {},
   "source": [
    "### Prioritized Dueling DDQN"
   ]
  },
  {
   "cell_type": "code",
   "execution_count": 6,
   "id": "da0bb0c1",
   "metadata": {},
   "outputs": [],
   "source": [
    "eval_prioritized = np.loadtxt(\"data/eval_Prioritized_Dueling_DDQN.txt\")\n",
    "q_values = np.loadtxt(\"data/q_values_Prioritized_Dueling_DDQN.txt\")\n",
    "steps = np.loadtxt(\"data/steps_Prioritized_Dueling_DDQN.txt\")\n",
    "\n",
    "plt.scatter([50, 100, 150, 200, 250, 300, 350, 400, 450, 500], [-e*4 for e in eval_prioritized], color='r', marker='x', zorder=1, label='evaluations')\n",
    "m, b = np.polyfit([50, 100, 150, 200, 250, 300, 350, 400, 450, 500], [-e*4 for e in eval_prioritized], 1)\n",
    "x = np.arange(0, 500)\n",
    "plt.plot(x, m*x+b, '--k', label='eval_regression')\n",
    "plt.plot(np.arange(len(steps)) + 1, steps, zorder=-1, label='steps')\n",
    "N = 10\n",
    "steps_mean = running_mean(steps, N)\n",
    "plt.plot(np.arange(len(steps_mean)) + 1, steps_mean, zorder=0, label='running average')\n",
    "plt.legend()\n",
    "plt.xlabel('Episode')\n",
    "plt.ylabel('Steps')\n",
    "plt.title('Steps per Episode - Prioritized Dueling DDQN')\n",
    "plt.savefig('plots/steps_Prioritized_Dueling_DDQN.png')\n",
    "plt.close()\n",
    "\n",
    "plt.plot(np.arange(len(q_values)) + 1, q_values)\n",
    "plt.xlabel('Episode')\n",
    "plt.ylabel('Average Q')\n",
    "plt.title('Average Q measure over sampled states')\n",
    "plt.savefig('plots/q_measures_Prioritized_Dueling_DDQN.png')\n",
    "plt.close()"
   ]
  },
  {
   "cell_type": "markdown",
   "id": "7301933f",
   "metadata": {},
   "source": [
    "### DQN"
   ]
  },
  {
   "cell_type": "code",
   "execution_count": 6,
   "id": "6491eb52",
   "metadata": {},
   "outputs": [],
   "source": [
    "eval_prioritized = np.loadtxt(\"data/eval_DQN.txt\")\n",
    "q_values = np.loadtxt(\"data/q_values_DQN.txt\")\n",
    "steps = np.loadtxt(\"data/steps_DQN.txt\")\n",
    "\n",
    "x = np.arange(50, 1001, 50)\n",
    "plt.scatter(x, [-e for e in eval_prioritized], color='r', marker='x', zorder=1, label='evaluations')\n",
    "m, b = np.polyfit(x, [-e for e in eval_prioritized], 1)\n",
    "x = np.arange(0, 1000)\n",
    "plt.plot(x, m*x+b, '--k', label='eval_regression')\n",
    "plt.plot(np.arange(len(steps)) + 1, steps, zorder=-1, label='steps')\n",
    "N = 10\n",
    "steps_mean = running_mean(steps, N)\n",
    "plt.plot(np.arange(len(steps_mean)) + 1, steps_mean, zorder=0, label='running average')\n",
    "plt.legend()\n",
    "plt.xlabel('Episode')\n",
    "plt.ylabel('Steps')\n",
    "plt.title('Steps per Episode - DQN')\n",
    "plt.savefig('plots/steps_DQN.png')\n",
    "plt.close()\n",
    "\n",
    "plt.plot(np.arange(len(q_values)) + 1, q_values)\n",
    "plt.xlabel('Episode')\n",
    "plt.ylabel('Average Q')\n",
    "plt.title('Average Q measure over sampled states')\n",
    "plt.savefig('plots/q_measures_DQN.png')\n",
    "plt.close()"
   ]
  },
  {
   "cell_type": "code",
   "execution_count": null,
   "id": "3573709b",
   "metadata": {},
   "outputs": [],
   "source": []
  }
 ],
 "metadata": {
  "kernelspec": {
   "display_name": "Python 3 (ipykernel)",
   "language": "python",
   "name": "python3"
  },
  "language_info": {
   "codemirror_mode": {
    "name": "ipython",
    "version": 3
   },
   "file_extension": ".py",
   "mimetype": "text/x-python",
   "name": "python",
   "nbconvert_exporter": "python",
   "pygments_lexer": "ipython3",
   "version": "3.10.11"
  }
 },
 "nbformat": 4,
 "nbformat_minor": 5
}
